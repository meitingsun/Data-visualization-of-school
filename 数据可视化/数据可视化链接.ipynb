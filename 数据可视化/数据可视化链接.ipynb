{
 "cells": [
  {
   "cell_type": "markdown",
   "metadata": {},
   "source": [
    "链接：https://tianchi.aliyun.com/course/courseConsole?courseId=261\n",
    "\n",
    "\n",
    "Season链接：https://tianchi.aliyun.com/course/courseConsole?courseId=261&chapterIndex=1&sectionIndex=3"
   ]
  },
  {
   "cell_type": "code",
   "execution_count": 4,
   "metadata": {},
   "outputs": [],
   "source": [
    "import pandas as pd \n",
    "import matplotlib.pyplot as plt\n",
    "import numpy as np\n",
    "from bokeh.plotting import figure,show\n",
    "from bokeh.models import ColumnDataSource\n",
    "# 导入图表绘制、图标展示模块\n",
    "# 导入ColumnDataSource模块\n",
    "\n",
    "\n",
    "df = pd.Series(np.random.randint(0,100,30))\n",
    "#print(df.head())\n",
    "\n",
    "p = figure(plot_width=400, plot_height=400)\n",
    "p.vbar(x=[1, 2, 3], width=3, bottom=0,top=[1.2, 2.5, 3.7],  # x：横轴坐标，width：宽度，bottom：底高度，top：顶高度 ; bottom=[1,2,3]\n",
    "       #color = ['red','blue','green'], alpha = 0.8   # 整体颜色设置，也可单独设置 → color=\"firebrick\"\n",
    "       line_width = 1,line_alpha = 0.8,line_color = 'black', line_dash = [5,2],    # 单独设置线参数\n",
    "       fill_color = 'red',fill_alpha = 0.6    # 单独设置填充颜色参数\n",
    "      )\n",
    "# 绘制竖向柱状图\n",
    "# p.vbar(x=df.index, width=0.5, bottom=0,top=df.values,  # x：横轴坐标，width：宽度，bottom：底高度，top：顶高度 ; bottom=[1,2,3]\n",
    "#        #color = ['red','blue','green'], alpha = 0.8   # 整体颜色设置，也可单独设置 → color=\"firebrick\"\n",
    "#        line_width = 1,line_alpha = 0.8,line_color = 'black', line_dash = [5,2],    # 单独设置线参数\n",
    "#        fill_color = 'red',fill_alpha = 0.6    # 单独设置填充颜色参数\n",
    "#       )\n",
    "\n",
    "show(p)"
   ]
  },
  {
   "cell_type": "code",
   "execution_count": 31,
   "metadata": {},
   "outputs": [],
   "source": [
    "from pyecharts import Bar\n",
    "v1 = [20,25,35,24]\n",
    "str1 = ['回忆','生活','现实','失败']\n",
    "bar1 = Bar('testBar_theme','Theme')\n",
    "bar1.add('test01',str1,v1,is_more_utils = True)\n",
    "bar1.render(r\"D:\\my_first_chart.html\")"
   ]
  },
  {
   "cell_type": "code",
   "execution_count": 5,
   "metadata": {},
   "outputs": [],
   "source": [
    "from pyecharts import Bar\n",
    "v1 = [20,25,35,24]\n",
    "str1 = ['回忆','生活','现实','失败']\n",
    "bar = Bar('testBar_theme','Theme')\n",
    "bar.add('test01',str1,v1,is_more_utils = True)\n",
    "# 更换单个图表主题\n",
    "# 其他主题：vintage,macarons,infographic,shine，roma \n",
    "bar.use_theme(\"vintage\")\n",
    "bar.render()"
   ]
  },
  {
   "cell_type": "code",
   "execution_count": 6,
   "metadata": {},
   "outputs": [],
   "source": [
    "from pyecharts import Map, Geo"
   ]
  },
  {
   "cell_type": "code",
   "execution_count": 19,
   "metadata": {},
   "outputs": [],
   "source": [
    "\n",
    "# 世界地图数据\n",
    "value = [95.1, 23.2, 43.3, 66.4, 88.5]\n",
    "attr= [\"China\", \"Canada\", \"Brazil\", \"Russia\", \"United States\"]\n",
    " \n",
    "# 省和直辖市\n",
    "province_distribution = {'河南': 45.23, '北京': 37.56, '河北': 21, '辽宁': 12, '江西': 6, '上海': 20, '安徽': 10, '江苏': 16, '湖南': 9, '浙江': 13, '海南': 2, '广东': 22, '湖北': 8, '黑龙江': 11, '澳门': 1, '陕西': 11, '四川': 7, '内蒙古': 3, '重庆': 3, '云南': 6, '贵州': 2, '吉林': 3, '山西': 12, '山东': 11, '福建': 4, '青海': 1, '舵主科技，质量保证': 1, '天津': 1, '其他': 1}\n",
    "provice=list(province_distribution.keys())\n",
    "values=list(province_distribution.values())\n",
    " \n",
    "# 城市 -- 指定省的城市 xx市\n",
    "city = ['郑州市', '安阳市', '洛阳市', '濮阳市', '南阳市', '开封市', '商丘市', '信阳市', '新乡市']\n",
    "values2 = [1.07, 3.85, 6.38, 8.21, 2.53, 4.37, 9.38, 4.29, 6.1]\n",
    " \n",
    "# 区县 -- 具体城市内的区县  xx县\n",
    "quxian = ['夏邑县', '民权县', '梁园区', '睢阳区', '柘城县', '宁陵县']\n",
    "values3 = [3, 5, 7, 8, 2, 4]"
   ]
  },
  {
   "cell_type": "code",
   "execution_count": 32,
   "metadata": {},
   "outputs": [],
   "source": [
    "# maptype='china' 只显示全国直辖市和省级\n",
    "# 数据只能是省名和直辖市的名称\n",
    "map = Map(\"中国地图\",'中国地图', width=1200, height=600)\n",
    "map.add(\"\", provice, values, visual_range=[0, 50],  maptype='china', is_visualmap=True,\n",
    "    visual_text_color='#000')\n",
    "#map.show_config()\n",
    "map.render(path='中国地图.html')"
   ]
  },
  {
   "cell_type": "code",
   "execution_count": 33,
   "metadata": {},
   "outputs": [],
   "source": [
    "map0 = Map(\"世界地图示例\", width=1200, height=600)\n",
    "map0.add(\"世界地图\", attr, value, maptype=\"world\",  is_visualmap=True, visual_text_color='#000')\n",
    "#map.show_config()\n",
    "map0.render('世界地图.html')"
   ]
  },
  {
   "cell_type": "code",
   "execution_count": null,
   "metadata": {},
   "outputs": [],
   "source": []
  }
 ],
 "metadata": {
  "kernelspec": {
   "display_name": "Python 3",
   "language": "python",
   "name": "python3"
  },
  "language_info": {
   "codemirror_mode": {
    "name": "ipython",
    "version": 3
   },
   "file_extension": ".py",
   "mimetype": "text/x-python",
   "name": "python",
   "nbconvert_exporter": "python",
   "pygments_lexer": "ipython3",
   "version": "3.7.0"
  }
 },
 "nbformat": 4,
 "nbformat_minor": 2
}
