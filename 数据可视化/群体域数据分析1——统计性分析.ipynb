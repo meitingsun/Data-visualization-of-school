{
 "cells": [
  {
   "cell_type": "markdown",
   "metadata": {},
   "source": [
    "## 描述性统计分析"
   ]
  },
  {
   "cell_type": "code",
   "execution_count": 1,
   "metadata": {},
   "outputs": [],
   "source": [
    "# 忽略警告信息\n",
    "import warnings\n",
    "warnings.filterwarnings(\"ignore\")\n",
    "import pandas as pd \n",
    "import matplotlib.pyplot as plt\n",
    "import numpy as np\n",
    "student_info=pd.read_csv(r\"D:\\Entertainment\\Heaven Pool\\education_data\\2_student_info.csv\")\n",
    "chengji=pd.read_csv(r\"D:\\Entertainment\\Heaven Pool\\education_data\\5_chengji.csv\")\n",
    "examtype=pd.read_csv(r\"D:\\Entertainment\\Heaven Pool\\education_data\\6_exam_type.csv\")\n",
    "# 当前在校学生信息\n",
    "student_info.columns=[u'学生id',u'学生姓名',u'性别',u'民族',u'出生日期',u'班级名',u'家庭住址',u'家庭类型',u'政治面貌',u'班级id',u'班级学期',u'是否住校',u'是否退学',u'宿舍号']\n",
    "\n",
    "# 学生成绩\n",
    "chengji.columns=['考试id','考试编号','考试编码名称','考试学科id','考试学科名','考试学期','考试类型','考试开始时间','学生id','考试成绩','Z_score','T_score','等第']\n",
    "# 使用pandas的to_datatime函数转换为标准日期格式\n",
    "\n",
    "# 考试类型\n",
    "examtype.columns=['考试类型id','考试类型名称']"
   ]
  },
  {
   "cell_type": "code",
   "execution_count": 80,
   "metadata": {},
   "outputs": [
    {
     "data": {
      "text/html": [
       "<div>\n",
       "<style scoped>\n",
       "    .dataframe tbody tr th:only-of-type {\n",
       "        vertical-align: middle;\n",
       "    }\n",
       "\n",
       "    .dataframe tbody tr th {\n",
       "        vertical-align: top;\n",
       "    }\n",
       "\n",
       "    .dataframe thead th {\n",
       "        text-align: right;\n",
       "    }\n",
       "</style>\n",
       "<table border=\"1\" class=\"dataframe\">\n",
       "  <thead>\n",
       "    <tr style=\"text-align: right;\">\n",
       "      <th></th>\n",
       "      <th>学生id</th>\n",
       "      <th>学生姓名</th>\n",
       "      <th>班级名</th>\n",
       "      <th>班级id</th>\n",
       "      <th>考试学科名</th>\n",
       "      <th>考试学期</th>\n",
       "      <th>考试编码名称</th>\n",
       "      <th>考试类型</th>\n",
       "      <th>考试成绩</th>\n",
       "      <th>Z_score</th>\n",
       "      <th>T_score</th>\n",
       "      <th>等第</th>\n",
       "    </tr>\n",
       "  </thead>\n",
       "  <tbody>\n",
       "    <tr>\n",
       "      <th>0</th>\n",
       "      <td>14454</td>\n",
       "      <td>陈某某</td>\n",
       "      <td>白-高二(01)</td>\n",
       "      <td>901</td>\n",
       "      <td>NaN</td>\n",
       "      <td>2018-2019-1</td>\n",
       "      <td>2018-1学期期末考试</td>\n",
       "      <td>3</td>\n",
       "      <td>83.0</td>\n",
       "      <td>NaN</td>\n",
       "      <td>NaN</td>\n",
       "      <td>NaN</td>\n",
       "    </tr>\n",
       "    <tr>\n",
       "      <th>1</th>\n",
       "      <td>14454</td>\n",
       "      <td>陈某某</td>\n",
       "      <td>白-高二(01)</td>\n",
       "      <td>901</td>\n",
       "      <td>NaN</td>\n",
       "      <td>2018-2019-1</td>\n",
       "      <td>2018-1学期期末考试</td>\n",
       "      <td>3</td>\n",
       "      <td>55.0</td>\n",
       "      <td>NaN</td>\n",
       "      <td>NaN</td>\n",
       "      <td>NaN</td>\n",
       "    </tr>\n",
       "    <tr>\n",
       "      <th>2</th>\n",
       "      <td>14454</td>\n",
       "      <td>陈某某</td>\n",
       "      <td>白-高二(01)</td>\n",
       "      <td>901</td>\n",
       "      <td>NaN</td>\n",
       "      <td>2018-2019-1</td>\n",
       "      <td>2018-1学期期末考试</td>\n",
       "      <td>3</td>\n",
       "      <td>78.0</td>\n",
       "      <td>NaN</td>\n",
       "      <td>NaN</td>\n",
       "      <td>NaN</td>\n",
       "    </tr>\n",
       "    <tr>\n",
       "      <th>3</th>\n",
       "      <td>14454</td>\n",
       "      <td>陈某某</td>\n",
       "      <td>白-高二(01)</td>\n",
       "      <td>901</td>\n",
       "      <td>NaN</td>\n",
       "      <td>2018-2019-1</td>\n",
       "      <td>2018-1学期期末考试</td>\n",
       "      <td>3</td>\n",
       "      <td>67.0</td>\n",
       "      <td>NaN</td>\n",
       "      <td>NaN</td>\n",
       "      <td>NaN</td>\n",
       "    </tr>\n",
       "    <tr>\n",
       "      <th>4</th>\n",
       "      <td>14454</td>\n",
       "      <td>陈某某</td>\n",
       "      <td>白-高二(01)</td>\n",
       "      <td>901</td>\n",
       "      <td>NaN</td>\n",
       "      <td>2018-2019-1</td>\n",
       "      <td>2018-1学期期末考试</td>\n",
       "      <td>3</td>\n",
       "      <td>110.0</td>\n",
       "      <td>NaN</td>\n",
       "      <td>NaN</td>\n",
       "      <td>NaN</td>\n",
       "    </tr>\n",
       "  </tbody>\n",
       "</table>\n",
       "</div>"
      ],
      "text/plain": [
       "    学生id 学生姓名       班级名  班级id 考试学科名         考试学期        考试编码名称  考试类型   考试成绩  \\\n",
       "0  14454  陈某某  白-高二(01)   901   NaN  2018-2019-1  2018-1学期期末考试     3   83.0   \n",
       "1  14454  陈某某  白-高二(01)   901   NaN  2018-2019-1  2018-1学期期末考试     3   55.0   \n",
       "2  14454  陈某某  白-高二(01)   901   NaN  2018-2019-1  2018-1学期期末考试     3   78.0   \n",
       "3  14454  陈某某  白-高二(01)   901   NaN  2018-2019-1  2018-1学期期末考试     3   67.0   \n",
       "4  14454  陈某某  白-高二(01)   901   NaN  2018-2019-1  2018-1学期期末考试     3  110.0   \n",
       "\n",
       "   Z_score  T_score  等第  \n",
       "0      NaN      NaN NaN  \n",
       "1      NaN      NaN NaN  \n",
       "2      NaN      NaN NaN  \n",
       "3      NaN      NaN NaN  \n",
       "4      NaN      NaN NaN  "
      ]
     },
     "execution_count": 80,
     "metadata": {},
     "output_type": "execute_result"
    }
   ],
   "source": [
    "# 合并chengji和student_info\n",
    "info=pd.merge(student_info,chengji,on='学生id')\n",
    "info=info[['学生id','学生姓名','班级名','班级id','考试学科名','考试学期','考试编码名称','考试类型','考试成绩','Z_score','T_score','等第']]\n",
    "info.head()"
   ]
  },
  {
   "cell_type": "code",
   "execution_count": 142,
   "metadata": {},
   "outputs": [],
   "source": [
    "# 删除缺考学生\n",
    "special=info.ix[info['考试成绩']==-2]\n",
    "info=info[-info['考试成绩'].isin(special['考试成绩'])]"
   ]
  },
  {
   "cell_type": "markdown",
   "metadata": {},
   "source": [
    "### 1.1 各班级学生排名情况"
   ]
  },
  {
   "cell_type": "markdown",
   "metadata": {},
   "source": [
    "#### 1.1.1  总分排名"
   ]
  },
  {
   "cell_type": "code",
   "execution_count": 143,
   "metadata": {},
   "outputs": [],
   "source": [
    "# 按班级和考试名称筛选\n",
    "Class=info.ix[(info['班级名']=='白-高二(01)') &  (info['考试编码名称']=='2018-1学期期末考试')]\n",
    "Score=Class.groupby(['学生id','学生姓名'])['考试成绩'].sum()"
   ]
  },
  {
   "cell_type": "code",
   "execution_count": 144,
   "metadata": {},
   "outputs": [],
   "source": [
    "# 整体班级和考试名称筛选\n",
    "TEST=info.ix[info['考试编码名称']=='2018-1学期期末考试']\n",
    "SCORE=TEST.groupby(['班级名','学生id','学生姓名'])['考试成绩'].sum().groupby(level=0, group_keys=False).nlargest(60)  \n",
    "# 在index的第1个level进行group；不设置group_keys=False, 会有2列job；nlargest()函数：对每一个group进行排序，并且只取每group的前3个\n",
    "\n",
    "# SCORE=SCORE.reset_index()\n",
    "SCORE.to_excel('D:\\Entertainment\\Heaven Pool\\\\2018年第1学期期末各班总分排名.xls')"
   ]
  },
  {
   "cell_type": "markdown",
   "metadata": {},
   "source": [
    "#### 1.1.2  单科排名"
   ]
  },
  {
   "cell_type": "code",
   "execution_count": 145,
   "metadata": {},
   "outputs": [],
   "source": [
    "# 单科逐一筛选\n",
    "TEST1=info.ix[info['考试编码名称']=='2018-1学期期中考试']\n",
    "SUBJECT1=TEST1.ix[TEST1['考试学科名']=='数学']\n",
    "SCORE1=SUBJECT1.groupby(['班级名','学生id','学生姓名'])['考试成绩'].sum().groupby(level=0, group_keys=False).nlargest(60)\n",
    "SCORE1.to_excel('D:\\Entertainment\\Heaven Pool\\\\2018年第1学期期中数学班级排名.xls')"
   ]
  },
  {
   "cell_type": "code",
   "execution_count": 146,
   "metadata": {},
   "outputs": [],
   "source": [
    "# 数据透视表\n",
    "TEST2=info.ix[info['考试编码名称']=='2018-1学期期中考试']\n",
    "SCORE2=pd.pivot_table(TEST,index=['班级名','学生id','学生姓名'],values=['考试成绩'],columns=['考试学科名'])\n",
    "SCORE2=SCORE2.reset_index()\n",
    "#SCORE.dtypes\n",
    "SCORE2.to_excel('D:\\Entertainment\\Heaven Pool\\\\2018年第1学期期中考试各科成绩.xls')"
   ]
  },
  {
   "cell_type": "markdown",
   "metadata": {},
   "source": [
    "### 1.2 各班级每个分数段学生排名人数"
   ]
  },
  {
   "cell_type": "markdown",
   "metadata": {},
   "source": [
    "#### 1.2.1 各班各科分数段排名"
   ]
  },
  {
   "cell_type": "code",
   "execution_count": 152,
   "metadata": {},
   "outputs": [],
   "source": [
    "TEST3=info.ix[info['考试编码名称']=='2018-1学期期中考试']\n",
    "bins=[10,20,30,40,50,60,70,80,90,100,110,120,130,140,150]\n",
    "TEST3['分数分组']=pd.cut(TEST3['考试成绩'],bins,right=False)\n",
    "SCORE3=TEST3.groupby(['班级名','考试学科名','分数分组'])['学生id'].count().groupby(level=[0,1], group_keys=False).nlargest(100)\n",
    "SCORE3.to_excel('D:\\Entertainment\\Heaven Pool\\\\2018年第1学期期中各班各科分数段排名.xls')"
   ]
  },
  {
   "cell_type": "markdown",
   "metadata": {},
   "source": [
    "#### 1.2.2 各班总分分数段排名"
   ]
  },
  {
   "cell_type": "code",
   "execution_count": 148,
   "metadata": {},
   "outputs": [],
   "source": [
    "TEST4=info.ix[info['考试编码名称']=='2018-1学期期中考试']\n",
    "SUM=TEST4.groupby(['班级名','学生id'])['考试成绩'].sum()\n",
    "SUM=SUM.reset_index()\n",
    "bins=[100,200,300,400,500,600,700,800,900,1000]\n",
    "SUM['分数分组']=pd.cut(SUM['考试成绩'],bins,right=False)\n",
    "SCORE4=SUM.groupby(['班级名','分数分组'])['学生id'].count().groupby(level=0, group_keys=False).nlargest(400)\n",
    "SCORE4.to_excel('D:\\Entertainment\\Heaven Pool\\\\2018年第1学期期中各班总分段排名.xls')"
   ]
  },
  {
   "cell_type": "markdown",
   "metadata": {},
   "source": [
    "#### 1.2.3 各班Z-score分数段排名（Z-score 标准分）"
   ]
  },
  {
   "cell_type": "code",
   "execution_count": 159,
   "metadata": {},
   "outputs": [],
   "source": [
    "TEST5=info.ix[info['考试编码名称']=='2018-1学期期中考试']  # -4.6 到2.9\n",
    "bins=[-4.6,-4.0,-3.5,-3.0,-2.5,-2.0,-1.5,-1.0,-0.5,0,0.5,1.0,1.5,2.0,2.5,3.0]\n",
    "TEST5['Z_score分组']=pd.cut(TEST5['Z_score'],bins,right=False)\n",
    "\n",
    "SCORE5=TEST5.groupby(['班级名','考试学科名','Z_score分组'])['学生id'].count().groupby(level=[0,1], group_keys=False).nlargest(100)\n",
    "SCORE5.to_excel('D:\\Entertainment\\Heaven Pool\\\\2018年第1学期期中各科Z_score分数段排名.xls')"
   ]
  },
  {
   "cell_type": "markdown",
   "metadata": {},
   "source": [
    "#### 1.2.4  各班T_score分数段排名"
   ]
  },
  {
   "cell_type": "code",
   "execution_count": 162,
   "metadata": {},
   "outputs": [],
   "source": [
    "TEST6=info.ix[info['考试编码名称']=='2018-1学期期中考试']  # -34 到103\n",
    "bins=[-34,-30,-20,-10,0,10,20,30,40,50,60,70,80,90,105]\n",
    "TEST6['T_score分组']=pd.cut(TEST6['T_score'],bins,right=False)\n",
    "SCORE6=TEST6.groupby(['班级名','考试学科名','T_score分组'])['学生id'].count().groupby(level=[0,1], group_keys=False).nlargest(100)\n",
    "SCORE6.to_excel('D:\\Entertainment\\Heaven Pool\\\\2018年第1学期期中各科T_score分数段排名.xls')"
   ]
  },
  {
   "cell_type": "markdown",
   "metadata": {},
   "source": [
    "### 1.3  各个科目每个分数段学生排名"
   ]
  },
  {
   "cell_type": "code",
   "execution_count": 172,
   "metadata": {},
   "outputs": [],
   "source": [
    "info['年级名']=info['班级名']\n",
    "info['年级名'][info['年级名'].str.contains('高一')]=u'高一'\n",
    "info['年级名'][info['年级名'].str.contains('高二')]=u'高二'\n",
    "info['年级名'][info['年级名'].str.contains('高三')]=u'高三'\n",
    "TEST7=info.ix[info['考试编码名称']=='2018-1学期期中考试']  # -34 到103\n",
    "TEST7=TEST7.groupby(['年级名','考试学科名','学生id','学生姓名'])['考试成绩'].mean()\n",
    "TEST7=TEST7.reset_index()\n",
    "bins=[0,10,20,30,40,50,60,70,80,90,100,110,120,130,140,150]\n",
    "TEST7['分数分组']=pd.cut(TEST7['考试成绩'],bins,right=False)\n",
    "SCORE7=TEST7.groupby(['年级名','考试学科名','分数分组'])['学生id'].count().groupby(level=[0,1], group_keys=False).nlargest(100)\n",
    "SCORE7.to_excel('D:\\Entertainment\\Heaven Pool\\\\2018年第1学期期中各科目分数段排名.xls')"
   ]
  },
  {
   "cell_type": "markdown",
   "metadata": {},
   "source": [
    "### 数据透视表：https://www.cnblogs.com/stream886/p/6022125.html#q8"
   ]
  },
  {
   "cell_type": "markdown",
   "metadata": {},
   "source": [
    "### Pandas中DataFrame基本操作（一），基本函数整理：https://blog.csdn.net/hhtnan/article/details/80080240"
   ]
  }
 ],
 "metadata": {
  "kernelspec": {
   "display_name": "Python 3",
   "language": "python",
   "name": "python3"
  },
  "language_info": {
   "codemirror_mode": {
    "name": "ipython",
    "version": 3
   },
   "file_extension": ".py",
   "mimetype": "text/x-python",
   "name": "python",
   "nbconvert_exporter": "python",
   "pygments_lexer": "ipython3",
   "version": "3.7.0"
  }
 },
 "nbformat": 4,
 "nbformat_minor": 2
}
