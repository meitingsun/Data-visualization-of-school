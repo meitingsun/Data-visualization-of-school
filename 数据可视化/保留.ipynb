{
 "cells": [
  {
   "cell_type": "markdown",
   "metadata": {},
   "source": [
    "## 学生消费画像"
   ]
  },
  {
   "cell_type": "code",
   "execution_count": 1,
   "metadata": {},
   "outputs": [],
   "source": [
    "# 忽略警告信息\n",
    "import warnings\n",
    "warnings.filterwarnings(\"ignore\")\n",
    "import pandas as pd \n",
    "import matplotlib.pyplot as plt\n",
    "import numpy as np\n",
    "student_info=pd.read_csv(r\"D:\\Entertainment\\Heaven Pool\\education_data\\2_student_info.csv\")\n",
    "consumption=pd.read_csv(r\"D:\\Entertainment\\Heaven Pool\\education_data\\7_consumption.csv\")"
   ]
  },
  {
   "cell_type": "code",
   "execution_count": 2,
   "metadata": {},
   "outputs": [
    {
     "name": "stdout",
     "output_type": "stream",
     "text": [
      "学生信息_学生数量： 1765\n",
      "学生信息_班级数量： 46\n",
      "学生信息_学期数量： 1\n",
      "学生信息_学期分布： ['2018-2019-1']\n",
      "学生信息_是否退学： [nan '1' ' ']\n"
     ]
    },
    {
     "data": {
      "text/html": [
       "<div>\n",
       "<style scoped>\n",
       "    .dataframe tbody tr th:only-of-type {\n",
       "        vertical-align: middle;\n",
       "    }\n",
       "\n",
       "    .dataframe tbody tr th {\n",
       "        vertical-align: top;\n",
       "    }\n",
       "\n",
       "    .dataframe thead th {\n",
       "        text-align: right;\n",
       "    }\n",
       "</style>\n",
       "<table border=\"1\" class=\"dataframe\">\n",
       "  <thead>\n",
       "    <tr style=\"text-align: right;\">\n",
       "      <th></th>\n",
       "      <th>学生id</th>\n",
       "      <th>学生姓名</th>\n",
       "      <th>性别</th>\n",
       "      <th>民族</th>\n",
       "      <th>出生日期</th>\n",
       "      <th>班级名</th>\n",
       "      <th>家庭住址</th>\n",
       "      <th>家庭类型</th>\n",
       "      <th>政治面貌</th>\n",
       "      <th>班级id</th>\n",
       "      <th>班级学期</th>\n",
       "      <th>是否住校</th>\n",
       "      <th>是否退学</th>\n",
       "      <th>宿舍号</th>\n",
       "    </tr>\n",
       "  </thead>\n",
       "  <tbody>\n",
       "    <tr>\n",
       "      <th>0</th>\n",
       "      <td>14454</td>\n",
       "      <td>陈某某</td>\n",
       "      <td>女</td>\n",
       "      <td>汉族</td>\n",
       "      <td>2001.0</td>\n",
       "      <td>白-高二(01)</td>\n",
       "      <td>宁波</td>\n",
       "      <td>城镇</td>\n",
       "      <td>共青团员</td>\n",
       "      <td>901</td>\n",
       "      <td>2018-2019-1</td>\n",
       "      <td>NaN</td>\n",
       "      <td>NaN</td>\n",
       "      <td>NaN</td>\n",
       "    </tr>\n",
       "    <tr>\n",
       "      <th>1</th>\n",
       "      <td>14479</td>\n",
       "      <td>曹某某</td>\n",
       "      <td>男</td>\n",
       "      <td>汉族</td>\n",
       "      <td>NaN</td>\n",
       "      <td>白-高二(01)</td>\n",
       "      <td>NaN</td>\n",
       "      <td>城镇</td>\n",
       "      <td>共青团员</td>\n",
       "      <td>901</td>\n",
       "      <td>2018-2019-1</td>\n",
       "      <td>1.0</td>\n",
       "      <td>NaN</td>\n",
       "      <td>315.0</td>\n",
       "    </tr>\n",
       "    <tr>\n",
       "      <th>2</th>\n",
       "      <td>14486</td>\n",
       "      <td>金某某</td>\n",
       "      <td>男</td>\n",
       "      <td>汉族</td>\n",
       "      <td>NaN</td>\n",
       "      <td>白-高二(01)</td>\n",
       "      <td>NaN</td>\n",
       "      <td>城镇</td>\n",
       "      <td>共青团员</td>\n",
       "      <td>901</td>\n",
       "      <td>2018-2019-1</td>\n",
       "      <td>1.0</td>\n",
       "      <td>NaN</td>\n",
       "      <td>321.0</td>\n",
       "    </tr>\n",
       "    <tr>\n",
       "      <th>3</th>\n",
       "      <td>14549</td>\n",
       "      <td>张某某</td>\n",
       "      <td>女</td>\n",
       "      <td>汉族</td>\n",
       "      <td>2002.0</td>\n",
       "      <td>白-高二(07)</td>\n",
       "      <td>浙江平湖</td>\n",
       "      <td>城镇</td>\n",
       "      <td>共青团员</td>\n",
       "      <td>907</td>\n",
       "      <td>2018-2019-1</td>\n",
       "      <td>NaN</td>\n",
       "      <td>NaN</td>\n",
       "      <td>NaN</td>\n",
       "    </tr>\n",
       "    <tr>\n",
       "      <th>4</th>\n",
       "      <td>14550</td>\n",
       "      <td>张某某</td>\n",
       "      <td>女</td>\n",
       "      <td>汉族</td>\n",
       "      <td>2001.0</td>\n",
       "      <td>白-高二(04)</td>\n",
       "      <td>浙江宁波</td>\n",
       "      <td>城镇</td>\n",
       "      <td>共青团员</td>\n",
       "      <td>904</td>\n",
       "      <td>2018-2019-1</td>\n",
       "      <td>NaN</td>\n",
       "      <td>NaN</td>\n",
       "      <td>NaN</td>\n",
       "    </tr>\n",
       "  </tbody>\n",
       "</table>\n",
       "</div>"
      ],
      "text/plain": [
       "    学生id 学生姓名 性别  民族    出生日期       班级名  家庭住址 家庭类型  政治面貌  班级id         班级学期  \\\n",
       "0  14454  陈某某  女  汉族  2001.0  白-高二(01)    宁波   城镇  共青团员   901  2018-2019-1   \n",
       "1  14479  曹某某  男  汉族     NaN  白-高二(01)   NaN   城镇  共青团员   901  2018-2019-1   \n",
       "2  14486  金某某  男  汉族     NaN  白-高二(01)   NaN   城镇  共青团员   901  2018-2019-1   \n",
       "3  14549  张某某  女  汉族  2002.0  白-高二(07)  浙江平湖   城镇  共青团员   907  2018-2019-1   \n",
       "4  14550  张某某  女  汉族  2001.0  白-高二(04)  浙江宁波   城镇  共青团员   904  2018-2019-1   \n",
       "\n",
       "   是否住校 是否退学    宿舍号  \n",
       "0   NaN  NaN    NaN  \n",
       "1   1.0  NaN  315.0  \n",
       "2   1.0  NaN  321.0  \n",
       "3   NaN  NaN    NaN  \n",
       "4   NaN  NaN    NaN  "
      ]
     },
     "execution_count": 2,
     "metadata": {},
     "output_type": "execute_result"
    }
   ],
   "source": [
    "# 当前在校学生信息\n",
    "student_info.columns=[u'学生id',u'学生姓名',u'性别',u'民族',u'出生日期',u'班级名',u'家庭住址',u'家庭类型',u'政治面貌',u'班级id',u'班级学期',u'是否住校',u'是否退学',u'宿舍号']\n",
    "# student_info['是否退学'].fillna(value=0) #将NaN替换为0\n",
    "#print(student_info.dtypes) # 查看dataframe中的数据类型\n",
    "n_student=student_info['学生id'].unique().shape[0]\n",
    "n_class=student_info['班级名'].unique().shape[0]\n",
    "n_term=student_info['班级学期'].unique().shape[0]\n",
    "print(\"学生信息_学生数量：\",n_student)\n",
    "print('学生信息_班级数量：',n_class)\n",
    "print('学生信息_学期数量：',n_term)\n",
    "print('学生信息_学期分布：',student_info['班级学期'].unique())\n",
    "print(\"学生信息_是否退学：\",student_info['是否退学'].unique())\n",
    "student_info.head(5)"
   ]
  },
  {
   "cell_type": "code",
   "execution_count": 9,
   "metadata": {},
   "outputs": [
    {
     "data": {
      "text/html": [
       "<div>\n",
       "<style scoped>\n",
       "    .dataframe tbody tr th:only-of-type {\n",
       "        vertical-align: middle;\n",
       "    }\n",
       "\n",
       "    .dataframe tbody tr th {\n",
       "        vertical-align: top;\n",
       "    }\n",
       "\n",
       "    .dataframe thead th {\n",
       "        text-align: right;\n",
       "    }\n",
       "</style>\n",
       "<table border=\"1\" class=\"dataframe\">\n",
       "  <thead>\n",
       "    <tr style=\"text-align: right;\">\n",
       "      <th></th>\n",
       "      <th>消费时间</th>\n",
       "      <th>消费金额</th>\n",
       "      <th>学生id</th>\n",
       "      <th>姓名</th>\n",
       "      <th>性别</th>\n",
       "    </tr>\n",
       "  </thead>\n",
       "  <tbody>\n",
       "    <tr>\n",
       "      <th>0</th>\n",
       "      <td>2018/7/1 06:32:51</td>\n",
       "      <td>-4.5</td>\n",
       "      <td>14877</td>\n",
       "      <td>张某某</td>\n",
       "      <td>女</td>\n",
       "    </tr>\n",
       "    <tr>\n",
       "      <th>1</th>\n",
       "      <td>2018/7/1 11:43:05</td>\n",
       "      <td>-11.0</td>\n",
       "      <td>14917</td>\n",
       "      <td>高某某</td>\n",
       "      <td>男</td>\n",
       "    </tr>\n",
       "    <tr>\n",
       "      <th>2</th>\n",
       "      <td>2018/7/1 14:21:42</td>\n",
       "      <td>-9.2</td>\n",
       "      <td>14921</td>\n",
       "      <td>胡某某</td>\n",
       "      <td>男</td>\n",
       "    </tr>\n",
       "    <tr>\n",
       "      <th>3</th>\n",
       "      <td>2018/7/1 14:33:06</td>\n",
       "      <td>-6.9</td>\n",
       "      <td>14898</td>\n",
       "      <td>牛某某</td>\n",
       "      <td>男</td>\n",
       "    </tr>\n",
       "    <tr>\n",
       "      <th>4</th>\n",
       "      <td>2018/7/1 15:05:45</td>\n",
       "      <td>-7.0</td>\n",
       "      <td>14917</td>\n",
       "      <td>高某某</td>\n",
       "      <td>男</td>\n",
       "    </tr>\n",
       "  </tbody>\n",
       "</table>\n",
       "</div>"
      ],
      "text/plain": [
       "                消费时间  消费金额   学生id   姓名 性别\n",
       "0  2018/7/1 06:32:51  -4.5  14877  张某某  女\n",
       "1  2018/7/1 11:43:05 -11.0  14917  高某某  男\n",
       "2  2018/7/1 14:21:42  -9.2  14921  胡某某  男\n",
       "3  2018/7/1 14:33:06  -6.9  14898  牛某某  男\n",
       "4  2018/7/1 15:05:45  -7.0  14917  高某某  男"
      ]
     },
     "execution_count": 9,
     "metadata": {},
     "output_type": "execute_result"
    }
   ],
   "source": [
    "consumption.columns=['消费时间','消费金额','学生id','姓名','性别']\n",
    "consumption.head()"
   ]
  },
  {
   "cell_type": "code",
   "execution_count": null,
   "metadata": {},
   "outputs": [],
   "source": []
  },
  {
   "cell_type": "markdown",
   "metadata": {},
   "source": [
    "### 1.1 学生性别分析"
   ]
  },
  {
   "cell_type": "code",
   "execution_count": 8,
   "metadata": {},
   "outputs": [
    {
     "data": {
      "text/html": [
       "<div>\n",
       "<style scoped>\n",
       "    .dataframe tbody tr th:only-of-type {\n",
       "        vertical-align: middle;\n",
       "    }\n",
       "\n",
       "    .dataframe tbody tr th {\n",
       "        vertical-align: top;\n",
       "    }\n",
       "\n",
       "    .dataframe thead th {\n",
       "        text-align: right;\n",
       "    }\n",
       "</style>\n",
       "<table border=\"1\" class=\"dataframe\">\n",
       "  <thead>\n",
       "    <tr style=\"text-align: right;\">\n",
       "      <th></th>\n",
       "      <th>学生id</th>\n",
       "      <th>学生姓名</th>\n",
       "      <th>性别</th>\n",
       "      <th>民族</th>\n",
       "      <th>出生日期</th>\n",
       "      <th>班级名</th>\n",
       "      <th>家庭住址</th>\n",
       "      <th>家庭类型</th>\n",
       "      <th>政治面貌</th>\n",
       "      <th>班级id</th>\n",
       "      <th>班级学期</th>\n",
       "      <th>是否住校</th>\n",
       "      <th>是否退学</th>\n",
       "      <th>宿舍号</th>\n",
       "      <th>年级名</th>\n",
       "    </tr>\n",
       "  </thead>\n",
       "  <tbody>\n",
       "    <tr>\n",
       "      <th>0</th>\n",
       "      <td>14454</td>\n",
       "      <td>陈某某</td>\n",
       "      <td>女</td>\n",
       "      <td>汉族</td>\n",
       "      <td>2001.0</td>\n",
       "      <td>白-高二(01)</td>\n",
       "      <td>宁波</td>\n",
       "      <td>城镇</td>\n",
       "      <td>共青团员</td>\n",
       "      <td>901</td>\n",
       "      <td>2018-2019-1</td>\n",
       "      <td>NaN</td>\n",
       "      <td>NaN</td>\n",
       "      <td>NaN</td>\n",
       "      <td>高二</td>\n",
       "    </tr>\n",
       "    <tr>\n",
       "      <th>1</th>\n",
       "      <td>14479</td>\n",
       "      <td>曹某某</td>\n",
       "      <td>男</td>\n",
       "      <td>汉族</td>\n",
       "      <td>NaN</td>\n",
       "      <td>白-高二(01)</td>\n",
       "      <td>NaN</td>\n",
       "      <td>城镇</td>\n",
       "      <td>共青团员</td>\n",
       "      <td>901</td>\n",
       "      <td>2018-2019-1</td>\n",
       "      <td>1.0</td>\n",
       "      <td>NaN</td>\n",
       "      <td>315.0</td>\n",
       "      <td>高二</td>\n",
       "    </tr>\n",
       "    <tr>\n",
       "      <th>2</th>\n",
       "      <td>14486</td>\n",
       "      <td>金某某</td>\n",
       "      <td>男</td>\n",
       "      <td>汉族</td>\n",
       "      <td>NaN</td>\n",
       "      <td>白-高二(01)</td>\n",
       "      <td>NaN</td>\n",
       "      <td>城镇</td>\n",
       "      <td>共青团员</td>\n",
       "      <td>901</td>\n",
       "      <td>2018-2019-1</td>\n",
       "      <td>1.0</td>\n",
       "      <td>NaN</td>\n",
       "      <td>321.0</td>\n",
       "      <td>高二</td>\n",
       "    </tr>\n",
       "    <tr>\n",
       "      <th>3</th>\n",
       "      <td>14549</td>\n",
       "      <td>张某某</td>\n",
       "      <td>女</td>\n",
       "      <td>汉族</td>\n",
       "      <td>2002.0</td>\n",
       "      <td>白-高二(07)</td>\n",
       "      <td>浙江平湖</td>\n",
       "      <td>城镇</td>\n",
       "      <td>共青团员</td>\n",
       "      <td>907</td>\n",
       "      <td>2018-2019-1</td>\n",
       "      <td>NaN</td>\n",
       "      <td>NaN</td>\n",
       "      <td>NaN</td>\n",
       "      <td>高二</td>\n",
       "    </tr>\n",
       "    <tr>\n",
       "      <th>4</th>\n",
       "      <td>14550</td>\n",
       "      <td>张某某</td>\n",
       "      <td>女</td>\n",
       "      <td>汉族</td>\n",
       "      <td>2001.0</td>\n",
       "      <td>白-高二(04)</td>\n",
       "      <td>浙江宁波</td>\n",
       "      <td>城镇</td>\n",
       "      <td>共青团员</td>\n",
       "      <td>904</td>\n",
       "      <td>2018-2019-1</td>\n",
       "      <td>NaN</td>\n",
       "      <td>NaN</td>\n",
       "      <td>NaN</td>\n",
       "      <td>高二</td>\n",
       "    </tr>\n",
       "  </tbody>\n",
       "</table>\n",
       "</div>"
      ],
      "text/plain": [
       "    学生id 学生姓名 性别  民族    出生日期       班级名  家庭住址 家庭类型  政治面貌  班级id         班级学期  \\\n",
       "0  14454  陈某某  女  汉族  2001.0  白-高二(01)    宁波   城镇  共青团员   901  2018-2019-1   \n",
       "1  14479  曹某某  男  汉族     NaN  白-高二(01)   NaN   城镇  共青团员   901  2018-2019-1   \n",
       "2  14486  金某某  男  汉族     NaN  白-高二(01)   NaN   城镇  共青团员   901  2018-2019-1   \n",
       "3  14549  张某某  女  汉族  2002.0  白-高二(07)  浙江平湖   城镇  共青团员   907  2018-2019-1   \n",
       "4  14550  张某某  女  汉族  2001.0  白-高二(04)  浙江宁波   城镇  共青团员   904  2018-2019-1   \n",
       "\n",
       "   是否住校 是否退学    宿舍号 年级名  \n",
       "0   NaN  NaN    NaN  高二  \n",
       "1   1.0  NaN  315.0  高二  \n",
       "2   1.0  NaN  321.0  高二  \n",
       "3   NaN  NaN    NaN  高二  \n",
       "4   NaN  NaN    NaN  高二  "
      ]
     },
     "execution_count": 8,
     "metadata": {},
     "output_type": "execute_result"
    }
   ],
   "source": [
    "# 将班级分为高一，高二，高三\n",
    "student_info['年级名']=student_info['班级名']\n",
    "student_info['年级名'][student_info['年级名'].str.contains('高一')]=u'高一'\n",
    "student_info['年级名'][student_info['年级名'].str.contains('高二')]=u'高二'\n",
    "student_info['年级名'][student_info['年级名'].str.contains('高三')]=u'高三'\n",
    "student_info.head()"
   ]
  },
  {
   "cell_type": "code",
   "execution_count": 14,
   "metadata": {},
   "outputs": [
    {
     "data": {
      "image/png": "[encoded data removed]",
      "text/plain": [
       "<Figure size 720x576 with 4 Axes>"
      ]
     },
     "metadata": {
      "needs_background": "light"
     },
     "output_type": "display_data"
    }
   ],
   "source": [
    "import matplotlib.pyplot as plt\n",
    "from pylab import mpl\n",
    "mpl.rcParams['font.sans-serif'] = ['SimHei'] # 指定默认字体\n",
    "mpl.rcParams['axes.unicode_minus'] = False # 解决保存图像是负号'-'显示为方块的问题\n",
    "\n",
    "fig=plt.figure(figsize=(10,8))\n",
    "fig.set(alpha=0.2)\n",
    "\n",
    " # 在一张大图里分别分列几个小图\n",
    "plt.subplot(2,2,1) # 要生成两行两列，这是第一个图plt.subplot('行','列','编号')\n",
    "student_info['性别'].value_counts().plot(kind='bar')\n",
    "plt.title(u'当前学期性别分布')\n",
    "plt.ylabel('人数')\n",
    "plt.xticks(rotation=0)\n",
    "\n",
    "\n",
    "plt.subplot(2,2,2) #这是第二个图\n",
    "student_info['年级名'].value_counts().plot(kind='bar')\n",
    "plt.title('当前学期各年级性别分布')\n",
    "plt.ylabel('人数')\n",
    "# plt.legend()标签\n",
    "plt.xticks(rotation=0)\n",
    "\n",
    "plt.subplot(2,2,3) #这是第三个图\n",
    "# student_info['是否退学'].value_counts().plot(kind='bar')\n",
    "student_info['是否退学'].fillna(value='0').value_counts().plot(kind='bar') #将NaN替换为0\n",
    "plt.title('当前学期退学人数分布')\n",
    "plt.xlabel('是否退学')\n",
    "plt.ylabel('人数')\n",
    "plt.xticks(rotation=0)\n",
    "#plt.grid(True)# 是否添加网格\n",
    "\n",
    "\n",
    "plt.subplot(2,2,4) #这是第四个图\n",
    "po=student_info.ix[student_info['是否退学']=='1'] # 筛选出退学的学生\n",
    "po.groupby(['年级名'])['学生id'].count().plot(kind='bar')\n",
    "# po.groupby('年级名')['学生id'].sort_values(by=\"学生id\",ascending=False).reset_index().plot(kind='bar')\n",
    "# student_info.ix[student_info['是否退学']=='1'].groupby([student_info['年级名']]).plot(kind='bar')\n",
    "plt.title('当前学期各年级退学人数分布')\n",
    "plt.ylabel('人数')\n",
    "plt.xticks(rotation=0)\n",
    "plt.show()"
   ]
  },
  {
   "cell_type": "markdown",
   "metadata": {},
   "source": [
    "##### 从学生分布图中可知：2018-2019年第1个学期中，人数：高三＜高二<高一；男女人数大致相等"
   ]
  },
  {
   "cell_type": "markdown",
   "metadata": {},
   "source": [
    "下面是Windows的字体对应名称，Follow your heart, 各种换！\n",
    "黑体\tSimHei\n",
    "微软雅黑\tMicrosoft YaHei\n",
    "微软正黑体\tMicrosoft JhengHei\n",
    "新宋体\tNSimSun\n",
    "新细明体\tPMingLiU\n",
    "细明体\tMingLiU\n",
    "标楷体\tDFKai-SB\n",
    "仿宋\tFangSong\n",
    "楷体\tKaiTi\n",
    "仿宋_GB2312\tFangSong_GB2312\n",
    "楷体_GB2312\tKaiTi_GB2312"
   ]
  },
  {
   "cell_type": "markdown",
   "metadata": {},
   "source": [
    "### 层次化索引的可视化"
   ]
  },
  {
   "cell_type": "code",
   "execution_count": 10,
   "metadata": {},
   "outputs": [
    {
     "data": {
      "image/png": "[encoded data removed]",
      "text/plain": [
       "<Figure size 432x288 with 1 Axes>"
      ]
     },
     "metadata": {
      "needs_background": "light"
     },
     "output_type": "display_data"
    }
   ],
   "source": [
    "student_info['年龄']=2019-student_info['出生日期']\n",
    "bp=student_info.groupby(['年级名','年龄'])['学生id'].count().unstack()\n",
    "bp.plot(kind='bar',stacked=True,color=['beige','bisque','cadetblue','darkred','indigo']) # 进行堆叠\n",
    "plt.title(u'各年级学生年龄分布情况')\n",
    "plt.ylabel('人数')\n",
    "plt.legend(bbox_to_anchor=(1, 0.7))\n",
    "plt.xticks(rotation=0)\n",
    "plt.show()"
   ]
  },
  {
   "cell_type": "code",
   "execution_count": 11,
   "metadata": {},
   "outputs": [
    {
     "data": {
      "text/html": [
       "<div>\n",
       "<style scoped>\n",
       "    .dataframe tbody tr th:only-of-type {\n",
       "        vertical-align: middle;\n",
       "    }\n",
       "\n",
       "    .dataframe tbody tr th {\n",
       "        vertical-align: top;\n",
       "    }\n",
       "\n",
       "    .dataframe thead th {\n",
       "        text-align: right;\n",
       "    }\n",
       "</style>\n",
       "<table border=\"1\" class=\"dataframe\">\n",
       "  <thead>\n",
       "    <tr style=\"text-align: right;\">\n",
       "      <th></th>\n",
       "      <th></th>\n",
       "      <th>学生id</th>\n",
       "      <th>学生姓名</th>\n",
       "      <th>民族</th>\n",
       "      <th>出生日期</th>\n",
       "      <th>班级名</th>\n",
       "      <th>家庭住址</th>\n",
       "      <th>家庭类型</th>\n",
       "      <th>政治面貌</th>\n",
       "      <th>班级id</th>\n",
       "      <th>班级学期</th>\n",
       "      <th>是否住校</th>\n",
       "      <th>是否退学</th>\n",
       "      <th>宿舍号</th>\n",
       "      <th>年龄</th>\n",
       "    </tr>\n",
       "    <tr>\n",
       "      <th>年级名</th>\n",
       "      <th>性别</th>\n",
       "      <th></th>\n",
       "      <th></th>\n",
       "      <th></th>\n",
       "      <th></th>\n",
       "      <th></th>\n",
       "      <th></th>\n",
       "      <th></th>\n",
       "      <th></th>\n",
       "      <th></th>\n",
       "      <th></th>\n",
       "      <th></th>\n",
       "      <th></th>\n",
       "      <th></th>\n",
       "      <th></th>\n",
       "    </tr>\n",
       "  </thead>\n",
       "  <tbody>\n",
       "    <tr>\n",
       "      <th rowspan=\"2\" valign=\"top\">高一</th>\n",
       "      <th>女</th>\n",
       "      <td>282</td>\n",
       "      <td>282</td>\n",
       "      <td>282</td>\n",
       "      <td>277</td>\n",
       "      <td>282</td>\n",
       "      <td>271</td>\n",
       "      <td>282</td>\n",
       "      <td>282</td>\n",
       "      <td>282</td>\n",
       "      <td>282</td>\n",
       "      <td>137</td>\n",
       "      <td>0</td>\n",
       "      <td>137</td>\n",
       "      <td>277</td>\n",
       "    </tr>\n",
       "    <tr>\n",
       "      <th>男</th>\n",
       "      <td>420</td>\n",
       "      <td>420</td>\n",
       "      <td>420</td>\n",
       "      <td>411</td>\n",
       "      <td>420</td>\n",
       "      <td>401</td>\n",
       "      <td>420</td>\n",
       "      <td>420</td>\n",
       "      <td>420</td>\n",
       "      <td>420</td>\n",
       "      <td>305</td>\n",
       "      <td>2</td>\n",
       "      <td>305</td>\n",
       "      <td>411</td>\n",
       "    </tr>\n",
       "    <tr>\n",
       "      <th rowspan=\"2\" valign=\"top\">高三</th>\n",
       "      <th>女</th>\n",
       "      <td>271</td>\n",
       "      <td>271</td>\n",
       "      <td>271</td>\n",
       "      <td>268</td>\n",
       "      <td>271</td>\n",
       "      <td>265</td>\n",
       "      <td>271</td>\n",
       "      <td>271</td>\n",
       "      <td>271</td>\n",
       "      <td>271</td>\n",
       "      <td>36</td>\n",
       "      <td>6</td>\n",
       "      <td>36</td>\n",
       "      <td>268</td>\n",
       "    </tr>\n",
       "    <tr>\n",
       "      <th>男</th>\n",
       "      <td>237</td>\n",
       "      <td>237</td>\n",
       "      <td>237</td>\n",
       "      <td>234</td>\n",
       "      <td>237</td>\n",
       "      <td>233</td>\n",
       "      <td>237</td>\n",
       "      <td>237</td>\n",
       "      <td>237</td>\n",
       "      <td>237</td>\n",
       "      <td>49</td>\n",
       "      <td>8</td>\n",
       "      <td>49</td>\n",
       "      <td>234</td>\n",
       "    </tr>\n",
       "    <tr>\n",
       "      <th rowspan=\"2\" valign=\"top\">高二</th>\n",
       "      <th>女</th>\n",
       "      <td>269</td>\n",
       "      <td>269</td>\n",
       "      <td>269</td>\n",
       "      <td>240</td>\n",
       "      <td>269</td>\n",
       "      <td>231</td>\n",
       "      <td>269</td>\n",
       "      <td>269</td>\n",
       "      <td>269</td>\n",
       "      <td>269</td>\n",
       "      <td>57</td>\n",
       "      <td>4</td>\n",
       "      <td>57</td>\n",
       "      <td>240</td>\n",
       "    </tr>\n",
       "    <tr>\n",
       "      <th>男</th>\n",
       "      <td>286</td>\n",
       "      <td>286</td>\n",
       "      <td>286</td>\n",
       "      <td>252</td>\n",
       "      <td>286</td>\n",
       "      <td>239</td>\n",
       "      <td>286</td>\n",
       "      <td>286</td>\n",
       "      <td>286</td>\n",
       "      <td>286</td>\n",
       "      <td>124</td>\n",
       "      <td>6</td>\n",
       "      <td>124</td>\n",
       "      <td>252</td>\n",
       "    </tr>\n",
       "  </tbody>\n",
       "</table>\n",
       "</div>"
      ],
      "text/plain": [
       "        学生id  学生姓名   民族  出生日期  班级名  家庭住址  家庭类型  政治面貌  班级id  班级学期  是否住校  是否退学  \\\n",
       "年级名 性别                                                                         \n",
       "高一  女    282   282  282   277  282   271   282   282   282   282   137     0   \n",
       "    男    420   420  420   411  420   401   420   420   420   420   305     2   \n",
       "高三  女    271   271  271   268  271   265   271   271   271   271    36     6   \n",
       "    男    237   237  237   234  237   233   237   237   237   237    49     8   \n",
       "高二  女    269   269  269   240  269   231   269   269   269   269    57     4   \n",
       "    男    286   286  286   252  286   239   286   286   286   286   124     6   \n",
       "\n",
       "        宿舍号   年龄  \n",
       "年级名 性别            \n",
       "高一  女   137  277  \n",
       "    男   305  411  \n",
       "高三  女    36  268  \n",
       "    男    49  234  \n",
       "高二  女    57  240  \n",
       "    男   124  252  "
      ]
     },
     "execution_count": 11,
     "metadata": {},
     "output_type": "execute_result"
    }
   ],
   "source": [
    "sex_table=student_info.groupby(['年级名','性别']).count()\n",
    "sex_table#是一个dataframe"
   ]
  },
  {
   "cell_type": "code",
   "execution_count": 12,
   "metadata": {},
   "outputs": [
    {
     "data": {
      "text/plain": [
       "年级名  性别\n",
       "高一   女     282\n",
       "     男     420\n",
       "高三   女     271\n",
       "     男     237\n",
       "高二   女     269\n",
       "     男     286\n",
       "Name: 学生id, dtype: int64"
      ]
     },
     "execution_count": 12,
     "metadata": {},
     "output_type": "execute_result"
    }
   ],
   "source": [
    "# 从层次化索引中取出其中的任意一列\n",
    "sex_class_id=sex_table['学生id']\n",
    "sex_class_id # 是一个series"
   ]
  },
  {
   "cell_type": "code",
   "execution_count": 13,
   "metadata": {},
   "outputs": [
    {
     "data": {
      "text/html": [
       "<div>\n",
       "<style scoped>\n",
       "    .dataframe tbody tr th:only-of-type {\n",
       "        vertical-align: middle;\n",
       "    }\n",
       "\n",
       "    .dataframe tbody tr th {\n",
       "        vertical-align: top;\n",
       "    }\n",
       "\n",
       "    .dataframe thead th {\n",
       "        text-align: right;\n",
       "    }\n",
       "</style>\n",
       "<table border=\"1\" class=\"dataframe\">\n",
       "  <thead>\n",
       "    <tr style=\"text-align: right;\">\n",
       "      <th>性别</th>\n",
       "      <th>女</th>\n",
       "      <th>男</th>\n",
       "    </tr>\n",
       "    <tr>\n",
       "      <th>年级名</th>\n",
       "      <th></th>\n",
       "      <th></th>\n",
       "    </tr>\n",
       "  </thead>\n",
       "  <tbody>\n",
       "    <tr>\n",
       "      <th>高一</th>\n",
       "      <td>282</td>\n",
       "      <td>420</td>\n",
       "    </tr>\n",
       "    <tr>\n",
       "      <th>高三</th>\n",
       "      <td>271</td>\n",
       "      <td>237</td>\n",
       "    </tr>\n",
       "    <tr>\n",
       "      <th>高二</th>\n",
       "      <td>269</td>\n",
       "      <td>286</td>\n",
       "    </tr>\n",
       "  </tbody>\n",
       "</table>\n",
       "</div>"
      ],
      "text/plain": [
       "性别     女    男\n",
       "年级名          \n",
       "高一   282  420\n",
       "高三   271  237\n",
       "高二   269  286"
      ]
     },
     "execution_count": 13,
     "metadata": {},
     "output_type": "execute_result"
    }
   ],
   "source": [
    "# 只要把它的双重索引转化为xy索引的dataframe，就可以画出需要的图了\n",
    "sex_class_id.unstack()#stack:堆叠，堆积；unstack():不要堆叠\n",
    "# 其实是对dataframe画图"
   ]
  },
  {
   "cell_type": "code",
   "execution_count": 14,
   "metadata": {},
   "outputs": [
    {
     "data": {
      "image/png": "[encoded data removed]",
      "text/plain": [
       "<Figure size 432x288 with 1 Axes>"
      ]
     },
     "metadata": {
      "needs_background": "light"
     },
     "output_type": "display_data"
    }
   ],
   "source": [
    "sex_class_id.unstack().plot(kind='bar')\n",
    "# sex_table=student_info.groupby(['年级名','性别'])['学生id'].count()\n",
    "plt.xlabel('年级名')\n",
    "plt.ylabel('人数')\n",
    "plt.title('各年级中不同性别人数分布情况')\n",
    "plt.xticks(rotation=0)\n",
    "plt.show()"
   ]
  },
  {
   "cell_type": "markdown",
   "metadata": {},
   "source": [
    "pd.pivot_table(data,index=['d1','d2'],values=['x1','x2'],columns=['c1','c2'],aggfunc=[np.sum,np.mean,len],fill_value=0)\n",
    "\n",
    "sex_table=pd.pivot_table(student_info[['性别','年级名']],index=['年级名'],columns=['性别'],aggfunc=[student_info['学生id'].count],fill_value=0)\n",
    "\n",
    "sex_table.plot(kind='bar')"
   ]
  },
  {
   "cell_type": "markdown",
   "metadata": {},
   "source": [
    "使用数据透视表：pivot_table，链接：https://www.cnblogs.com/stream886/p/6022125.html"
   ]
  },
  {
   "cell_type": "markdown",
   "metadata": {},
   "source": [
    "#### 1.2  学生学业情况描述"
   ]
  },
  {
   "cell_type": "code",
   "execution_count": 15,
   "metadata": {},
   "outputs": [
    {
     "data": {
      "text/html": [
       "<div>\n",
       "<style scoped>\n",
       "    .dataframe tbody tr th:only-of-type {\n",
       "        vertical-align: middle;\n",
       "    }\n",
       "\n",
       "    .dataframe tbody tr th {\n",
       "        vertical-align: top;\n",
       "    }\n",
       "\n",
       "    .dataframe thead th {\n",
       "        text-align: right;\n",
       "    }\n",
       "</style>\n",
       "<table border=\"1\" class=\"dataframe\">\n",
       "  <thead>\n",
       "    <tr style=\"text-align: right;\">\n",
       "      <th></th>\n",
       "      <th>考试id</th>\n",
       "      <th>考试编号</th>\n",
       "      <th>考试编码名称</th>\n",
       "      <th>考试学科id</th>\n",
       "      <th>考试学科名</th>\n",
       "      <th>考试学期</th>\n",
       "      <th>考试类型</th>\n",
       "      <th>考试开始时间</th>\n",
       "      <th>学生id</th>\n",
       "      <th>考试成绩</th>\n",
       "      <th>Z_score</th>\n",
       "      <th>T_score</th>\n",
       "      <th>等第</th>\n",
       "    </tr>\n",
       "  </thead>\n",
       "  <tbody>\n",
       "    <tr>\n",
       "      <th>0</th>\n",
       "      <td>136424</td>\n",
       "      <td>282</td>\n",
       "      <td>2017年9月宁波市“十校联考”</td>\n",
       "      <td>17.0</td>\n",
       "      <td>政治</td>\n",
       "      <td>2017-2018-1</td>\n",
       "      <td>7</td>\n",
       "      <td>2017-09-20</td>\n",
       "      <td>13539</td>\n",
       "      <td>-2.0</td>\n",
       "      <td>NaN</td>\n",
       "      <td>NaN</td>\n",
       "      <td>NaN</td>\n",
       "    </tr>\n",
       "    <tr>\n",
       "      <th>1</th>\n",
       "      <td>136424</td>\n",
       "      <td>282</td>\n",
       "      <td>2017年9月宁波市“十校联考”</td>\n",
       "      <td>17.0</td>\n",
       "      <td>政治</td>\n",
       "      <td>2017-2018-1</td>\n",
       "      <td>7</td>\n",
       "      <td>2017-09-20</td>\n",
       "      <td>13548</td>\n",
       "      <td>90.0</td>\n",
       "      <td>1.074511</td>\n",
       "      <td>88.59608</td>\n",
       "      <td>0.137615</td>\n",
       "    </tr>\n",
       "    <tr>\n",
       "      <th>2</th>\n",
       "      <td>136424</td>\n",
       "      <td>282</td>\n",
       "      <td>2017年9月宁波市“十校联考”</td>\n",
       "      <td>17.0</td>\n",
       "      <td>政治</td>\n",
       "      <td>2017-2018-1</td>\n",
       "      <td>7</td>\n",
       "      <td>2017-09-20</td>\n",
       "      <td>13551</td>\n",
       "      <td>91.0</td>\n",
       "      <td>1.194145</td>\n",
       "      <td>89.55315</td>\n",
       "      <td>0.091743</td>\n",
       "    </tr>\n",
       "    <tr>\n",
       "      <th>3</th>\n",
       "      <td>136424</td>\n",
       "      <td>282</td>\n",
       "      <td>2017年9月宁波市“十校联考”</td>\n",
       "      <td>17.0</td>\n",
       "      <td>政治</td>\n",
       "      <td>2017-2018-1</td>\n",
       "      <td>7</td>\n",
       "      <td>2017-09-20</td>\n",
       "      <td>13555</td>\n",
       "      <td>-2.0</td>\n",
       "      <td>NaN</td>\n",
       "      <td>NaN</td>\n",
       "      <td>NaN</td>\n",
       "    </tr>\n",
       "    <tr>\n",
       "      <th>4</th>\n",
       "      <td>136424</td>\n",
       "      <td>282</td>\n",
       "      <td>2017年9月宁波市“十校联考”</td>\n",
       "      <td>17.0</td>\n",
       "      <td>政治</td>\n",
       "      <td>2017-2018-1</td>\n",
       "      <td>7</td>\n",
       "      <td>2017-09-20</td>\n",
       "      <td>13559</td>\n",
       "      <td>-2.0</td>\n",
       "      <td>NaN</td>\n",
       "      <td>NaN</td>\n",
       "      <td>NaN</td>\n",
       "    </tr>\n",
       "  </tbody>\n",
       "</table>\n",
       "</div>"
      ],
      "text/plain": [
       "     考试id  考试编号            考试编码名称  考试学科id 考试学科名         考试学期  考试类型     考试开始时间  \\\n",
       "0  136424   282  2017年9月宁波市“十校联考”    17.0    政治  2017-2018-1     7 2017-09-20   \n",
       "1  136424   282  2017年9月宁波市“十校联考”    17.0    政治  2017-2018-1     7 2017-09-20   \n",
       "2  136424   282  2017年9月宁波市“十校联考”    17.0    政治  2017-2018-1     7 2017-09-20   \n",
       "3  136424   282  2017年9月宁波市“十校联考”    17.0    政治  2017-2018-1     7 2017-09-20   \n",
       "4  136424   282  2017年9月宁波市“十校联考”    17.0    政治  2017-2018-1     7 2017-09-20   \n",
       "\n",
       "    学生id  考试成绩   Z_score   T_score        等第  \n",
       "0  13539  -2.0       NaN       NaN       NaN  \n",
       "1  13548  90.0  1.074511  88.59608  0.137615  \n",
       "2  13551  91.0  1.194145  89.55315  0.091743  \n",
       "3  13555  -2.0       NaN       NaN       NaN  \n",
       "4  13559  -2.0       NaN       NaN       NaN  "
      ]
     },
     "execution_count": 15,
     "metadata": {},
     "output_type": "execute_result"
    }
   ],
   "source": [
    "# 学生成绩\n",
    "chengji.columns=['考试id','考试编号','考试编码名称','考试学科id','考试学科名','考试学期','考试类型','考试开始时间','学生id','考试成绩','Z_score','T_score','等第']\n",
    "# 使用pandas的to_datatime函数转换为标准日期格式\n",
    "chengji['考试开始时间']=pd.to_datetime(chengji['考试开始时间'])\n",
    "chengji.head()"
   ]
  },
  {
   "cell_type": "code",
   "execution_count": 16,
   "metadata": {},
   "outputs": [
    {
     "name": "stdout",
     "output_type": "stream",
     "text": [
      "学生成绩中学期数量: ['2017-2018-1' '2016-2017-2' '2014-2015-1' '2015-2016-1' '2014-2015-2'\n",
      " '2017-2018-2' '2018-2019-1' '2013-2014-1' '2013-2014-2' '2015-2016-2'\n",
      " '2016-2017-1']\n",
      "学生成绩中考试数量 86\n"
     ]
    }
   ],
   "source": [
    "print('学生成绩中学期数量:',chengji['考试学期'].unique())\n",
    "print('学生成绩中考试数量',chengji['考试编号'].unique().shape[0])"
   ]
  },
  {
   "cell_type": "markdown",
   "metadata": {},
   "source": [
    "学生成绩表中的学期数量有11个，从2013年到2019年,总共有86个考试"
   ]
  },
  {
   "cell_type": "code",
   "execution_count": 17,
   "metadata": {},
   "outputs": [
    {
     "data": {
      "text/html": [
       "<div>\n",
       "<style scoped>\n",
       "    .dataframe tbody tr th:only-of-type {\n",
       "        vertical-align: middle;\n",
       "    }\n",
       "\n",
       "    .dataframe tbody tr th {\n",
       "        vertical-align: top;\n",
       "    }\n",
       "\n",
       "    .dataframe thead th {\n",
       "        text-align: right;\n",
       "    }\n",
       "</style>\n",
       "<table border=\"1\" class=\"dataframe\">\n",
       "  <thead>\n",
       "    <tr style=\"text-align: right;\">\n",
       "      <th></th>\n",
       "      <th>考试id</th>\n",
       "      <th>考试编号</th>\n",
       "      <th>考试编码名称</th>\n",
       "      <th>考试学科id</th>\n",
       "      <th>考试学科名</th>\n",
       "      <th>考试学期</th>\n",
       "      <th>考试类型</th>\n",
       "      <th>考试开始时间</th>\n",
       "      <th>学生id</th>\n",
       "      <th>考试成绩</th>\n",
       "      <th>Z_score</th>\n",
       "      <th>T_score</th>\n",
       "      <th>等第</th>\n",
       "    </tr>\n",
       "  </thead>\n",
       "  <tbody>\n",
       "    <tr>\n",
       "      <th>26632</th>\n",
       "      <td>136947</td>\n",
       "      <td>284</td>\n",
       "      <td>2017学年度第一学期期中考试</td>\n",
       "      <td>2.0</td>\n",
       "      <td>数学</td>\n",
       "      <td>2017-2018-1</td>\n",
       "      <td>2</td>\n",
       "      <td>2017-11-15</td>\n",
       "      <td>13956</td>\n",
       "      <td>-1.0</td>\n",
       "      <td>NaN</td>\n",
       "      <td>NaN</td>\n",
       "      <td>NaN</td>\n",
       "    </tr>\n",
       "    <tr>\n",
       "      <th>26667</th>\n",
       "      <td>136947</td>\n",
       "      <td>284</td>\n",
       "      <td>2017学年度第一学期期中考试</td>\n",
       "      <td>2.0</td>\n",
       "      <td>数学</td>\n",
       "      <td>2017-2018-1</td>\n",
       "      <td>2</td>\n",
       "      <td>2017-11-15</td>\n",
       "      <td>14295</td>\n",
       "      <td>-1.0</td>\n",
       "      <td>NaN</td>\n",
       "      <td>NaN</td>\n",
       "      <td>NaN</td>\n",
       "    </tr>\n",
       "    <tr>\n",
       "      <th>229324</th>\n",
       "      <td>120036</td>\n",
       "      <td>222</td>\n",
       "      <td>2013-2014年第一学期期末考试</td>\n",
       "      <td>1.0</td>\n",
       "      <td>语文</td>\n",
       "      <td>2013-2014-1</td>\n",
       "      <td>3</td>\n",
       "      <td>2014-01-18</td>\n",
       "      <td>11055</td>\n",
       "      <td>-1.0</td>\n",
       "      <td>NaN</td>\n",
       "      <td>NaN</td>\n",
       "      <td>NaN</td>\n",
       "    </tr>\n",
       "    <tr>\n",
       "      <th>316188</th>\n",
       "      <td>127884</td>\n",
       "      <td>252</td>\n",
       "      <td>2015学年第一学期期末考查课总评</td>\n",
       "      <td>9.0</td>\n",
       "      <td>体育</td>\n",
       "      <td>2015-2016-1</td>\n",
       "      <td>5</td>\n",
       "      <td>2016-01-12</td>\n",
       "      <td>11973</td>\n",
       "      <td>-1.0</td>\n",
       "      <td>NaN</td>\n",
       "      <td>NaN</td>\n",
       "      <td>NaN</td>\n",
       "    </tr>\n",
       "    <tr>\n",
       "      <th>383944</th>\n",
       "      <td>129064</td>\n",
       "      <td>253</td>\n",
       "      <td>2015学年第一学期期末考试</td>\n",
       "      <td>5.0</td>\n",
       "      <td>化学</td>\n",
       "      <td>2015-2016-1</td>\n",
       "      <td>3</td>\n",
       "      <td>2016-01-23</td>\n",
       "      <td>12232</td>\n",
       "      <td>-1.0</td>\n",
       "      <td>NaN</td>\n",
       "      <td>NaN</td>\n",
       "      <td>NaN</td>\n",
       "    </tr>\n",
       "  </tbody>\n",
       "</table>\n",
       "</div>"
      ],
      "text/plain": [
       "          考试id  考试编号              考试编码名称  考试学科id 考试学科名         考试学期  考试类型  \\\n",
       "26632   136947   284     2017学年度第一学期期中考试     2.0    数学  2017-2018-1     2   \n",
       "26667   136947   284     2017学年度第一学期期中考试     2.0    数学  2017-2018-1     2   \n",
       "229324  120036   222  2013-2014年第一学期期末考试     1.0    语文  2013-2014-1     3   \n",
       "316188  127884   252   2015学年第一学期期末考查课总评     9.0    体育  2015-2016-1     5   \n",
       "383944  129064   253      2015学年第一学期期末考试     5.0    化学  2015-2016-1     3   \n",
       "\n",
       "           考试开始时间   学生id  考试成绩  Z_score  T_score  等第  \n",
       "26632  2017-11-15  13956  -1.0      NaN      NaN NaN  \n",
       "26667  2017-11-15  14295  -1.0      NaN      NaN NaN  \n",
       "229324 2014-01-18  11055  -1.0      NaN      NaN NaN  \n",
       "316188 2016-01-12  11973  -1.0      NaN      NaN NaN  \n",
       "383944 2016-01-23  12232  -1.0      NaN      NaN NaN  "
      ]
     },
     "execution_count": 17,
     "metadata": {},
     "output_type": "execute_result"
    }
   ],
   "source": [
    "# 第一种表达方式：统计各个学期中作弊、缺考、免考的学生数量分布\n",
    "special1=chengji.ix[chengji['考试成绩']==-1]\n",
    "special2=chengji.ix[chengji['考试成绩']==-2]\n",
    "special3=chengji.ix[chengji['考试成绩']==-3]\n",
    "special=pd.concat([special1,special2,special3],axis=0)\n",
    "special.head()\n",
    "# 第二种表达方式：在多个逻辑条件下，用& 或者|，\n",
    "# chengji.ix[(chengji['考试成绩']==-1)|(chengji['考试成绩']==-2)|(chengji['考试成绩']==-3)]"
   ]
  },
  {
   "cell_type": "code",
   "execution_count": 18,
   "metadata": {},
   "outputs": [
    {
     "data": {
      "text/plain": [
       "<Figure size 720x720 with 0 Axes>"
      ]
     },
     "metadata": {},
     "output_type": "display_data"
    },
    {
     "data": {
      "image/png": "[encoded data removed]",
      "text/plain": [
       "<Figure size 432x288 with 1 Axes>"
      ]
     },
     "metadata": {
      "needs_background": "light"
     },
     "output_type": "display_data"
    }
   ],
   "source": [
    "plt.figure(figsize=(10,10))\n",
    "test=special.groupby(['考试学期','考试成绩'])['学生id'].count()\n",
    "test=test.unstack().plot(kind='bar',width=0.4,stacked=True) # 设置柱子的宽度\n",
    "plt.xticks(color='black',rotation=60) # 对x轴坐标设置颜色以及倾斜度\n",
    "plt.xlabel('考试学期')\n",
    "plt.ylabel('人数')\n",
    "plt.title('各考试学期特殊学生人数分布')\n",
    "plt.legend()\n",
    "plt.show()"
   ]
  },
  {
   "cell_type": "markdown",
   "metadata": {},
   "source": [
    "##### 考试成绩(-1为作弊，-2为缺考，-3为免考)；从上图可知：去年缺考的人数是最多的。"
   ]
  },
  {
   "cell_type": "markdown",
   "metadata": {},
   "source": [
    "‘line’：折线图\n",
    "‘bar’ :条形图\n",
    "‘barh’：横向条形图\n",
    "‘hist’：柱状图\n",
    "‘box’ ：箱线图\n",
    "‘kde’ :密度估计图，主要对柱状图添加Kernel 概率密度线\n",
    "‘area’ : 面积图\n",
    "‘pie’ : 饼图\n",
    "‘scatter’：散点图"
   ]
  },
  {
   "cell_type": "code",
   "execution_count": 19,
   "metadata": {},
   "outputs": [
    {
     "data": {
      "text/plain": [
       "<Figure size 6480x6480 with 0 Axes>"
      ]
     },
     "metadata": {},
     "output_type": "display_data"
    },
    {
     "data": {
      "image/png": "[encoded data removed]",
      "text/plain": [
       "<Figure size 432x288 with 1 Axes>"
      ]
     },
     "metadata": {
      "needs_background": "light"
     },
     "output_type": "display_data"
    }
   ],
   "source": [
    "# 删除成绩表中的特殊情况\n",
    "# 按列条件筛选、删除DataFrame的整行     data.name.isin([筛选元素])  https://blog.csdn.net/shuihupo/article/details/82842524\n",
    "# 对dataframe的某列（name为列名）进行筛选，加负号的原因是想删除符合条件的行，不写负号是筛选出符合条件的行\n",
    "score=chengji[-chengji['考试成绩'].isin(special['考试成绩'])]\n",
    "\n",
    "# 汇总各科成绩变化趋势\n",
    "score1=chengji.groupby(['考试学科名','考试学期'])['考试成绩'].mean().unstack().T\n",
    "\n",
    "# 选取score中常见科目（选择列）\n",
    "score1=pd.DataFrame(score1,columns=['数学','语文','英语','物理','化学','地理','历史','政治','生物'])\n",
    "\n",
    "fig=plt.figure(figsize=(90,90))\n",
    "fig.set(alpha=0.2)\n",
    "score1.plot(kind='line',marker = \"*\")\n",
    "plt.title('高考科目每学期平均分数')\n",
    "plt.legend(bbox_to_anchor=(1.2, 0.9))#bbox_to_anchor：表示legend的位置，前一个表示左右，后一个表示上下\n",
    "# plt.grid(True)\n",
    "plt.xticks([])  #去掉刻度的方法\n",
    "plt.axis('off') # 关闭坐标轴\n",
    "plt.ylabel('平均分数')\n",
    "plt.show()"
   ]
  },
  {
   "cell_type": "markdown",
   "metadata": {},
   "source": [
    "##### 从上图中可以看出：高考科目的平均分数在逐年下降，应该加强对学生的教育"
   ]
  },
  {
   "cell_type": "markdown",
   "metadata": {},
   "source": [
    "### 层级索引：最大的作用在于能够将超过二维的数据结构转化为等价的DataFrame\n",
    "\n",
    "1、使用unstack()方法可以将层次索引的数据结构转化为一个普通的DataFrame,stack()方法作用相反\n",
    "\n",
    "2、多级索引的取值和切片：iloc索引器；使用loc索引器\n",
    "\n",
    "3、根据级别汇总统计 dataframe.sum(level='key')"
   ]
  },
  {
   "cell_type": "code",
   "execution_count": 20,
   "metadata": {},
   "outputs": [
    {
     "data": {
      "image/png": "[encoded data removed]",
      "text/plain": [
       "<Figure size 720x720 with 3 Axes>"
      ]
     },
     "metadata": {
      "needs_background": "light"
     },
     "output_type": "display_data"
    }
   ],
   "source": [
    "# 合并学生成绩和当前学生信息(当前学生学习情况)\n",
    "current=pd.merge(score,student_info,on='学生id')\n",
    "cur_score=current.groupby(['年级名','考试学科名'])['考试成绩'].agg(['mean','std'])# count:非NA的数量；mean：非NA的平均值；std:标准差\n",
    "cur_score.unstack()\n",
    "\n",
    "fig=plt.figure(figsize=(10,10))\n",
    "fig.set(alpha=0.2)\n",
    "\n",
    "plt.subplot(3,1,1)\n",
    "gao1=cur_score.loc['高一'].unstack()\n",
    "std1=gao1.loc['std']\n",
    "gao1.loc['mean'].plot(kind='bar',yerr=std1 ,align='center',width=0.5,alpha=0.5)\n",
    "plt.title('当前学生成绩分布情况')\n",
    "plt.ylabel('高一成绩')\n",
    "plt.xticks(rotation=0)\n",
    "\n",
    "plt.subplot(3,1,2)\n",
    "gao2=cur_score.loc['高二'].unstack()\n",
    "std2=gao2.loc['std']\n",
    "gao2.loc['mean'].plot(kind='bar',yerr=std2 ,align='center',width=0.5,alpha=0.5)\n",
    "# plt.title('当前高二学生成绩分布情况')\n",
    "plt.ylabel('高二成绩')\n",
    "plt.xticks(rotation=0)\n",
    "\n",
    "\n",
    "\n",
    "plt.subplot(3,1,3)\n",
    "gao3=cur_score.loc['高三'].unstack()\n",
    "std3=gao3.loc['std']\n",
    "gao3.loc['mean'].plot(kind='bar',yerr=std3 ,align='center',width=0.5,alpha=0.5)\n",
    "plt.ylabel('高三成绩')\n",
    "plt.xticks(rotation=0)\n",
    "\n",
    "plt.show()"
   ]
  },
  {
   "cell_type": "code",
   "execution_count": 21,
   "metadata": {},
   "outputs": [
    {
     "data": {
      "text/plain": [
       "MultiIndex(levels=[['高一', '高三', '高二'], ['体育', '化学', '历史', '地理', '技术', '政治', '数学', '物理', '生物', '美术', '英语', '语文', '音乐']],\n",
       "           labels=[[0, 0, 0, 0, 0, 0, 0, 0, 0, 0, 0, 0, 0, 1, 1, 1, 1, 1, 1, 1, 1, 1, 1, 1, 1, 1, 2, 2, 2, 2, 2, 2, 2, 2, 2, 2, 2, 2, 2], [0, 1, 2, 3, 4, 5, 6, 7, 8, 9, 10, 11, 12, 0, 1, 2, 3, 4, 5, 6, 7, 8, 9, 10, 11, 12, 0, 1, 2, 3, 4, 5, 6, 7, 8, 9, 10, 11, 12]],\n",
       "           names=['年级名', '考试学科名'])"
      ]
     },
     "execution_count": 21,
     "metadata": {},
     "output_type": "execute_result"
    }
   ],
   "source": [
    "cur_score.index # 查看groupby后的行索引"
   ]
  },
  {
   "cell_type": "markdown",
   "metadata": {},
   "source": [
    "##### 上面有层级标签（这里两列），label标签（分类、位置）"
   ]
  },
  {
   "cell_type": "markdown",
   "metadata": {},
   "source": [
    "#### 1.3 学生消费情况描述"
   ]
  },
  {
   "cell_type": "code",
   "execution_count": 10,
   "metadata": {},
   "outputs": [
    {
     "data": {
      "text/plain": [
       "消费时间     object\n",
       "消费金额    float64\n",
       "学生id      int64\n",
       "姓名       object\n",
       "性别       object\n",
       "dtype: object"
      ]
     },
     "execution_count": 10,
     "metadata": {},
     "output_type": "execute_result"
    }
   ],
   "source": [
    "consumption.dtypes\n",
    "# object是文本类型"
   ]
  },
  {
   "cell_type": "code",
   "execution_count": 24,
   "metadata": {},
   "outputs": [
    {
     "data": {
      "text/html": [
       "<div>\n",
       "<style scoped>\n",
       "    .dataframe tbody tr th:only-of-type {\n",
       "        vertical-align: middle;\n",
       "    }\n",
       "\n",
       "    .dataframe tbody tr th {\n",
       "        vertical-align: top;\n",
       "    }\n",
       "\n",
       "    .dataframe thead th {\n",
       "        text-align: right;\n",
       "    }\n",
       "</style>\n",
       "<table border=\"1\" class=\"dataframe\">\n",
       "  <thead>\n",
       "    <tr style=\"text-align: right;\">\n",
       "      <th></th>\n",
       "      <th>考勤id</th>\n",
       "      <th>学期</th>\n",
       "      <th>日期</th>\n",
       "      <th>考勤id</th>\n",
       "      <th>考勤名称</th>\n",
       "      <th>考勤任务id</th>\n",
       "      <th>学生id</th>\n",
       "      <th>学生姓名</th>\n",
       "      <th>班级名</th>\n",
       "      <th>班级id</th>\n",
       "    </tr>\n",
       "  </thead>\n",
       "  <tbody>\n",
       "    <tr>\n",
       "      <th>0</th>\n",
       "      <td>134324</td>\n",
       "      <td>2017-2018-1</td>\n",
       "      <td>2018/1/27 12:21:32</td>\n",
       "      <td>99003</td>\n",
       "      <td>早退[移动考勤机]</td>\n",
       "      <td>9900300</td>\n",
       "      <td>13893</td>\n",
       "      <td>陈某某</td>\n",
       "      <td>高三(11)</td>\n",
       "      <td>872</td>\n",
       "    </tr>\n",
       "    <tr>\n",
       "      <th>1</th>\n",
       "      <td>134346</td>\n",
       "      <td>2017-2018-1</td>\n",
       "      <td>2018/1/27 12:41:44</td>\n",
       "      <td>99003</td>\n",
       "      <td>早退[移动考勤机]</td>\n",
       "      <td>9900300</td>\n",
       "      <td>13667</td>\n",
       "      <td>宋某某</td>\n",
       "      <td>高三(11)</td>\n",
       "      <td>872</td>\n",
       "    </tr>\n",
       "    <tr>\n",
       "      <th>2</th>\n",
       "      <td>134367</td>\n",
       "      <td>2017-2018-1</td>\n",
       "      <td>2018/1/27 14:13:37</td>\n",
       "      <td>99003</td>\n",
       "      <td>早退[移动考勤机]</td>\n",
       "      <td>9900300</td>\n",
       "      <td>13925</td>\n",
       "      <td>李某某</td>\n",
       "      <td>高三(09)</td>\n",
       "      <td>879</td>\n",
       "    </tr>\n",
       "    <tr>\n",
       "      <th>3</th>\n",
       "      <td>134263</td>\n",
       "      <td>2017-2018-1</td>\n",
       "      <td>2018/1/27 11:18:03</td>\n",
       "      <td>99003</td>\n",
       "      <td>早退[移动考勤机]</td>\n",
       "      <td>9900300</td>\n",
       "      <td>13774</td>\n",
       "      <td>张某某</td>\n",
       "      <td>高三(09)</td>\n",
       "      <td>879</td>\n",
       "    </tr>\n",
       "    <tr>\n",
       "      <th>4</th>\n",
       "      <td>134480</td>\n",
       "      <td>2017-2018-1</td>\n",
       "      <td>2018/1/27 14:42:03</td>\n",
       "      <td>99002</td>\n",
       "      <td>校服[移动考勤机]</td>\n",
       "      <td>9900200</td>\n",
       "      <td>13774</td>\n",
       "      <td>张某某</td>\n",
       "      <td>高三(09)</td>\n",
       "      <td>879</td>\n",
       "    </tr>\n",
       "  </tbody>\n",
       "</table>\n",
       "</div>"
      ],
      "text/plain": [
       "     考勤id           学期                  日期   考勤id       考勤名称   考勤任务id   学生id  \\\n",
       "0  134324  2017-2018-1  2018/1/27 12:21:32  99003  早退[移动考勤机]  9900300  13893   \n",
       "1  134346  2017-2018-1  2018/1/27 12:41:44  99003  早退[移动考勤机]  9900300  13667   \n",
       "2  134367  2017-2018-1  2018/1/27 14:13:37  99003  早退[移动考勤机]  9900300  13925   \n",
       "3  134263  2017-2018-1  2018/1/27 11:18:03  99003  早退[移动考勤机]  9900300  13774   \n",
       "4  134480  2017-2018-1  2018/1/27 14:42:03  99002  校服[移动考勤机]  9900200  13774   \n",
       "\n",
       "  学生姓名     班级名  班级id  \n",
       "0  陈某某  高三(11)   872  \n",
       "1  宋某某  高三(11)   872  \n",
       "2  李某某  高三(09)   879  \n",
       "3  张某某  高三(09)   879  \n",
       "4  张某某  高三(09)   879  "
      ]
     },
     "execution_count": 24,
     "metadata": {},
     "output_type": "execute_result"
    }
   ],
   "source": [
    "# 考勤类型\n",
    "kaoqin.columns=['考勤id','学期','日期','考勤id','考勤名称','考勤任务id','学生id','学生姓名','班级名','班级id']\n",
    "kaoqin.head()"
   ]
  },
  {
   "cell_type": "code",
   "execution_count": null,
   "metadata": {},
   "outputs": [],
   "source": []
  },
  {
   "cell_type": "code",
   "execution_count": 8,
   "metadata": {},
   "outputs": [
    {
     "data": {
      "text/html": [
       "<div>\n",
       "<style scoped>\n",
       "    .dataframe tbody tr th:only-of-type {\n",
       "        vertical-align: middle;\n",
       "    }\n",
       "\n",
       "    .dataframe tbody tr th {\n",
       "        vertical-align: top;\n",
       "    }\n",
       "\n",
       "    .dataframe thead th {\n",
       "        text-align: right;\n",
       "    }\n",
       "</style>\n",
       "<table border=\"1\" class=\"dataframe\">\n",
       "  <thead>\n",
       "    <tr style=\"text-align: right;\">\n",
       "      <th></th>\n",
       "      <th>考试类型id</th>\n",
       "      <th>考试类型名称</th>\n",
       "    </tr>\n",
       "  </thead>\n",
       "  <tbody>\n",
       "    <tr>\n",
       "      <th>0</th>\n",
       "      <td>2</td>\n",
       "      <td>期中</td>\n",
       "    </tr>\n",
       "    <tr>\n",
       "      <th>1</th>\n",
       "      <td>3</td>\n",
       "      <td>期末</td>\n",
       "    </tr>\n",
       "    <tr>\n",
       "      <th>2</th>\n",
       "      <td>4</td>\n",
       "      <td>平时(总评用)</td>\n",
       "    </tr>\n",
       "    <tr>\n",
       "      <th>3</th>\n",
       "      <td>5</td>\n",
       "      <td>总评</td>\n",
       "    </tr>\n",
       "    <tr>\n",
       "      <th>4</th>\n",
       "      <td>6</td>\n",
       "      <td>五校联考</td>\n",
       "    </tr>\n",
       "  </tbody>\n",
       "</table>\n",
       "</div>"
      ],
      "text/plain": [
       "   考试类型id   考试类型名称\n",
       "0       2       期中\n",
       "1       3       期末\n",
       "2       4  平时(总评用)\n",
       "3       5       总评\n",
       "4       6     五校联考"
      ]
     },
     "execution_count": 8,
     "metadata": {},
     "output_type": "execute_result"
    }
   ],
   "source": [
    "exam_type.columns=['考试类型id','考试类型名称']\n",
    "exam_type.head()"
   ]
  },
  {
   "cell_type": "code",
   "execution_count": null,
   "metadata": {},
   "outputs": [],
   "source": []
  },
  {
   "cell_type": "code",
   "execution_count": 8,
   "metadata": {},
   "outputs": [
    {
     "data": {
      "text/plain": [
       "datetime.datetime(2018, 7, 5, 10, 20)"
      ]
     },
     "execution_count": 8,
     "metadata": {},
     "output_type": "execute_result"
    }
   ],
   "source": [
    "import datetime\n",
    "datetime.datetime(2018, 7, 5, 10, 20)"
   ]
  },
  {
   "cell_type": "code",
   "execution_count": 10,
   "metadata": {},
   "outputs": [
    {
     "name": "stdout",
     "output_type": "stream",
     "text": [
      "3\n",
      "2019\n",
      "6\n",
      "2019/3/6 13:24:19\n"
     ]
    }
   ],
   "source": [
    "from datetime import datetime\n",
    " \n",
    "now = datetime.now()\n",
    "print (now.month)\n",
    "print (now.year)\n",
    "print (now.day)\n",
    "print (str(now.year)+ '/' + str(now.month) + '/' + str(now.day) ,str(now.hour) +':'+ str(now.minute) + ':' + str(now.second))"
   ]
  },
  {
   "cell_type": "code",
   "execution_count": null,
   "metadata": {},
   "outputs": [],
   "source": []
  }
 ],
 "metadata": {
  "kernelspec": {
   "display_name": "Python 3",
   "language": "python",
   "name": "python3"
  },
  "language_info": {
   "codemirror_mode": {
    "name": "ipython",
    "version": 3
   },
   "file_extension": ".py",
   "mimetype": "text/x-python",
   "name": "python",
   "nbconvert_exporter": "python",
   "pygments_lexer": "ipython3",
   "version": "3.7.0"
  }
 },
 "nbformat": 4,
 "nbformat_minor": 2
}
